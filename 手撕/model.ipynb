{
 "cells": [
  {
   "cell_type": "markdown",
   "id": "fa3232b3",
   "metadata": {},
   "source": [
    "# MLP"
   ]
  },
  {
   "cell_type": "code",
   "execution_count": null,
   "id": "e1aa0901",
   "metadata": {},
   "outputs": [],
   "source": [
    "import torch\n",
    "import torch.nn as nn\n",
    "import torch.optim as optim\n",
    "\n",
    "class MLP(nn.module):\n",
    "    def __init__(self,input_size,hidden_size,num_classes):\n",
    "        super(MLP,self).__init__()\n",
    "        self.fc1 = nn.Linear(input_size, hidden_size)\n",
    "        self.fc2 = nn.Linear(hidden_size, num_classes)\n",
    "        \n",
    "    def forward(self,x):\n",
    "        x = x.view(-1, self.input_size)\n",
    "        x = torch.relu(self.fc1(x))\n",
    "        '''\n",
    "        或者这样写\n",
    "        x = self.fc1(x)\n",
    "        x = torch.relu(x)\n",
    "        '''\n",
    "        x = self.fc2(x)\n",
    "        return x\n",
    "    \n",
    "# 1. 创建一个MLP实例\n",
    "input_size = 576 # 假设每个输入有784个特征（例如，24x24像素的图像）\n",
    "hidden_size = 512 # 第一个隐藏层的神经元数量\n",
    "num_classes = 10 # 输出类别数量\n",
    "mlp = MLP(input_size, hidden_size, num_classes)\n",
    "criterion = nn.MSELoss()\n",
    "optimizer = optim.SGD(mlp.parameters(), lr=1e-4)\n",
    "\n",
    "x_train = torch.randn(64, input_size) \n",
    "y_train = torch.randn(64, num_classes)\n",
    "\n",
    "for epoch in range(100):\n",
    "    # 进行100个训练周期\n",
    "    # 前向传播 \n",
    "    outputs = mlp(x_train) \n",
    "    loss = criterion(outputs, y_train)\n",
    "\n",
    "    # 反向传播和优化 \n",
    "    optimizer.zero_grad()\n",
    "    loss.backward() \n",
    "    optimizer.step()\n",
    "\n",
    "    if (epoch+1) % 10 == 0:\n",
    "        print(f'Epoch [{epoch+1}/100], Loss: {loss.item():.4f}')\n",
    "\n",
    "with torch.no_grad():\n",
    "    sample_data = torch.randn(1, input_size) \n",
    "    predictions = mlp(sample_data) \n",
    "    print(predictions)\n",
    "        \n",
    "        \n",
    "\n",
    "\n",
    "        "
   ]
  },
  {
   "cell_type": "markdown",
   "id": "a2b25370",
   "metadata": {},
   "source": [
    "# Self-Attention"
   ]
  },
  {
   "cell_type": "code",
   "execution_count": null,
   "id": "a101bdc3",
   "metadata": {},
   "outputs": [],
   "source": [
    "import torch\n",
    "import torch.nn as nn\n",
    "import math\n",
    "\n",
    "class SelfAttention(nn.module):\n",
    "    def __init__(self, hidden_dim):\n",
    "        super(SelfAttention, self).__init__()\n",
    "        self.hidden_dim = hidden_dim\n",
    "        self.q_proj = nn.Linear(hidden_dim, hidden_dim)\n",
    "        self.k_proj = nn.Linear(hidden_dim, hidden_dim)\n",
    "        self.v_proj = nn.Linear(hidden_dim, hidden_dim)\n",
    "        \n",
    "    def forward(self, x):\n",
    "        q = self.q_proj(x)\n",
    "        k = self.k_proj(x)\n",
    "        v = self.v_proj(x)\n",
    "        attn_weight = torch.matmul(q, k.transpose(-2, -1))\n",
    "        attn_weight = torch.softmax(attn_weight/math.sqrt(self.hidden_dim), dim=-1)\n",
    "        output = torch.matmul(attn_weight, v)\n",
    "        return output"
   ]
  },
  {
   "cell_type": "markdown",
   "id": "8f162056",
   "metadata": {},
   "source": [
    "# MHA"
   ]
  },
  {
   "cell_type": "code",
   "execution_count": null,
   "id": "33a59626",
   "metadata": {},
   "outputs": [],
   "source": [
    "import torch\n",
    "import torch.nn as nn\n",
    "\n",
    "class MHA(nn.Module):\n",
    "    def __init__(self, hidden_dim, num_heads,attention_dropout=0.1, output_dropout=0.1):\n",
    "        super(MHA, self).__init__()\n",
    "        self.hidden_dim = hidden_dim\n",
    "        self.num_heads = num_heads\n",
    "        self.head_dim = hidden_dim / num_heads\n",
    "        self.q_proj = nn.Linear(hidden_dim, hidden_dim)\n",
    "        self.k_proj = nn.Linear(hidden_dim, hidden_dim)\n",
    "        self.v_proj = nn.Linear(hidden_dim, hidden_dim)\n",
    "        self.out_proj = nn.Linear(hidden_dim, hidden_dim)\n",
    "        self.attn_dropout = nn.Dropout(attention_dropout)\n",
    "        self.output_dropout = nn.Dropout(output_dropout)\n",
    "        \n",
    "    def forward(self, x):\n",
    "        batch_size, seq_len, _ = x.shape\n",
    "        # shape 变成 （batch_size, num_head, seq_len, head_dim）\n",
    "        Q = self.q_proj(x).view(batch_size, seq_len, self.num_heads, self.head_dim).permute(#另一种写法\n",
    "            0, 2, 1, 3\n",
    "        )\n",
    "        K = self.k_proj(x).view(batch_size, seq_len, self.num_heads, self.head_dim).transpose(1, 2)\n",
    "        V = self.v_proj(x).view(batch_size, seq_len, self.num_heads, self.head_dim).transpose(1, 2)\n",
    "        \n",
    "        attn_weight = torch.softmax(Q @ K.transpose(-2, -1)/math.sqrt(self.head_dim),dim = -1)\n",
    "        attn_weight = self.dropout(attn_weight)\n",
    "        output = attn_weight @ V\n",
    "        # contiguous重新分配内存，使张量在内存中是连续的，view函数要求输入的张量在内存中是连续的\n",
    "        output = output.transpose(1,2).contiguous().view(batch_size, seq_len, self.hidden_dim)\n",
    "        output = self.out_proj(output)\n",
    "        output = self.output_dropout(output)\n",
    "        \n",
    "        return output\n",
    "        \n",
    "        \n",
    "        \n",
    "        "
   ]
  }
 ],
 "metadata": {
  "kernelspec": {
   "display_name": "base",
   "language": "python",
   "name": "python3"
  },
  "language_info": {
   "codemirror_mode": {
    "name": "ipython",
    "version": 3
   },
   "file_extension": ".py",
   "mimetype": "text/x-python",
   "name": "python",
   "nbconvert_exporter": "python",
   "pygments_lexer": "ipython3",
   "version": "3.12.2"
  }
 },
 "nbformat": 4,
 "nbformat_minor": 5
}
