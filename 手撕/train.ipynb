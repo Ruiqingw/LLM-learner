{
 "cells": [
  {
   "cell_type": "markdown",
   "id": "096aa6ba",
   "metadata": {},
   "source": [
    "# 手写训练代码"
   ]
  },
  {
   "cell_type": "code",
   "execution_count": null,
   "id": "921a2f9c",
   "metadata": {},
   "outputs": [],
   "source": [
    "import torch\n",
    "import torch.nn as nn"
   ]
  }
 ],
 "metadata": {
  "kernelspec": {
   "display_name": "base",
   "language": "python",
   "name": "python3"
  },
  "language_info": {
   "name": "python",
   "version": "3.12.2"
  }
 },
 "nbformat": 4,
 "nbformat_minor": 5
}
